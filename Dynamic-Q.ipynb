{
 "cells": [
  {
   "cell_type": "code",
   "execution_count": 1,
   "id": "60985794",
   "metadata": {
    "ExecuteTime": {
     "end_time": "2024-04-10T15:31:34.512689Z",
     "start_time": "2024-04-10T15:31:33.782319Z"
    }
   },
   "outputs": [],
   "source": [
    "from scipy import optimize\n",
    "import matplotlib.pyplot as plt\n",
    "import numpy as np\n",
    "#import autograd.numpy as numpy\n",
    "#from autograd import grad\n",
    "#from sympy import diff\n",
    "from math import sqrt\n",
    "from math import tanh\n",
    "import scipy"
   ]
  },
  {
   "cell_type": "code",
   "execution_count": 27,
   "id": "e945310b",
   "metadata": {
    "ExecuteTime": {
     "end_time": "2024-04-10T16:09:57.423136Z",
     "start_time": "2024-04-10T16:09:57.417336Z"
    }
   },
   "outputs": [],
   "source": [
    "def numerical_gradient(f,x):\n",
    "    #f:function x:ndarray\n",
    "    h=1e-10 #∆x\n",
    "    grad=np.zeros_like(x)\n",
    "\n",
    "    for index in range(x.size):\n",
    "        temp_val=x[index]\n",
    "        x[index]=temp_val+h\n",
    "        fxh1=f(x)\n",
    "        x[index]=temp_val-h\n",
    "        fxh2=f(x)\n",
    "\n",
    "        grad[index]=(fxh1-fxh2)/(2*h)\n",
    "        x[index]=temp_val\n",
    "\n",
    "    return  grad"
   ]
  },
  {
   "cell_type": "code",
   "execution_count": 28,
   "id": "60f42fd2",
   "metadata": {
    "ExecuteTime": {
     "end_time": "2024-04-10T16:09:57.788399Z",
     "start_time": "2024-04-10T16:09:57.782900Z"
    }
   },
   "outputs": [],
   "source": [
    "def numerical_gradient_param(f,x,param):\n",
    "    #f:function x:ndarray\n",
    "    h=1e-10 #∆x\n",
    "    grad=np.zeros_like(x)\n",
    "\n",
    "    for index in range(x.size):\n",
    "        temp_val=x[index]\n",
    "        x[index]=temp_val+h\n",
    "        fxh1=f(x,param)\n",
    "        x[index]=temp_val-h\n",
    "        fxh2=f(x,param)\n",
    "\n",
    "        grad[index]=(fxh1-fxh2)/(2*h)\n",
    "        x[index]=temp_val\n",
    "\n",
    "    return  grad"
   ]
  },
  {
   "cell_type": "code",
   "execution_count": 29,
   "id": "052d2b18",
   "metadata": {
    "ExecuteTime": {
     "end_time": "2024-04-10T16:09:58.160356Z",
     "start_time": "2024-04-10T16:09:58.155337Z"
    }
   },
   "outputs": [],
   "source": [
    "Nu, Ks, Kb, epsilon, sigma, Tamb, W, L, h, Ts = 10, 400, 0.0267, 0.35, 5.67E-8, 293.15, 0.2, 0.2, 0.02, 373.15\n",
    "# X[1],X[2],X[3]: H,b,s\n",
    "# h:height of base\n",
    "x0max = 1\n",
    "x1max = 1\n",
    "x2max = 1\n",
    "x0min = 1e-03\n",
    "x1min = 1e-03\n",
    "x2min = 1e-03"
   ]
  },
  {
   "cell_type": "code",
   "execution_count": 54,
   "id": "dbf3338c",
   "metadata": {
    "ExecuteTime": {
     "end_time": "2024-04-10T16:18:21.354786Z",
     "start_time": "2024-04-10T16:18:21.347120Z"
    }
   },
   "outputs": [],
   "source": [
    "def Rbase(X):\n",
    "    return h / (Ks * W * L)\n",
    "\n",
    "\n",
    "def Rconv(X):\n",
    "    return 1 / (hconv(X) * S(X))\n",
    "\n",
    "\n",
    "def Rrad(X):\n",
    "    return 1 / (hrad(X) * S(X))\n",
    "\n",
    "\n",
    "def Rfin(X):\n",
    "    return (X[2] + X[1]) / (W * L * np.sqrt(np.abs(Nu * Ks * Kb * X[1] / X[2])) *\n",
    "                            np.tanh(X[0] * np.sqrt(np.abs(Nu * Ks /\n",
    "                                                         (Kb * X[1] * X[2])))))\n",
    "\n",
    "\n",
    "def hconv(X):\n",
    "    return Nu * Ks / (2 * X[2])\n",
    "\n",
    "\n",
    "def hrad(X):\n",
    "    return epsilon * sigma * (Ts + Tamb) * (Ts**2 + Tamb**2)\n",
    "\n",
    "\n",
    "def S(X):\n",
    "    return 4 * W * L + (n(X) - 1) * X[2] * (L - X[0]) - (2 * n(X) -\n",
    "                                                         2) * X[0] * L\n",
    "\n",
    "\n",
    "def n(X):\n",
    "    return (W - X[1]) / X[2] + 1\n",
    "\n",
    "\n",
    "def f(X):\n",
    "    return Rbase(X) + Rfin(X) + (Rconv(X) * Rrad(X)) / (Rconv(X) + Rrad(X))"
   ]
  },
  {
   "cell_type": "code",
   "execution_count": 55,
   "id": "f109be65",
   "metadata": {
    "ExecuteTime": {
     "end_time": "2024-04-10T16:18:22.158437Z",
     "start_time": "2024-04-10T16:18:22.152337Z"
    }
   },
   "outputs": [],
   "source": [
    "cons = (\n",
    "    {\n",
    "        'type': 'ineq',\n",
    "        'fun': lambda X: X[0] - x0min\n",
    "    },\n",
    "    {\n",
    "        'type': 'ineq',\n",
    "        'fun': lambda X: X[1] - x1min\n",
    "    },\n",
    "    {\n",
    "        'type': 'ineq',\n",
    "        'fun': lambda X: X[2] - x2min\n",
    "    },\n",
    "    {\n",
    "        'type': 'ineq',\n",
    "        'fun': lambda X: -X[0] + x0max\n",
    "    },\n",
    "    {\n",
    "        'type': 'ineq',\n",
    "        'fun': lambda X: -X[1] + x1max\n",
    "    },\n",
    "    {\n",
    "        'type': 'ineq',\n",
    "        'fun': lambda X: -X[2] + x2max\n",
    "    },\n",
    ")"
   ]
  },
  {
   "cell_type": "code",
   "execution_count": 56,
   "id": "791c3108",
   "metadata": {
    "ExecuteTime": {
     "end_time": "2024-04-10T16:18:22.932514Z",
     "start_time": "2024-04-10T16:18:22.883365Z"
    }
   },
   "outputs": [
    {
     "name": "stdout",
     "output_type": "stream",
     "text": [
      "[0.112 0.001 0.001]\n"
     ]
    }
   ],
   "source": [
    "x_start = optimize.brute(f, ((x0min, x0max), (x1min, x1max), (x2min, x2max)),\n",
    "                         Ns=10,\n",
    "                         finish=None)\n",
    "#枚举Ns次确认起点\n",
    "print(x_start)"
   ]
  },
  {
   "cell_type": "code",
   "execution_count": 57,
   "id": "1597235f",
   "metadata": {
    "ExecuteTime": {
     "end_time": "2024-04-10T16:18:23.463172Z",
     "start_time": "2024-04-10T16:18:23.459022Z"
    },
    "scrolled": true
   },
   "outputs": [],
   "source": [
    "#X0 = [0.1, 0.1, 0.1]\n",
    "#res = optimize.minimize(f,\n",
    "#                        x_start,\n",
    "#                        method='SLSQP',\n",
    "#                        constraints=cons,\n",
    "#                        options={'maxiter': 1000})\n",
    "#print(res)"
   ]
  },
  {
   "cell_type": "code",
   "execution_count": 58,
   "id": "a8d0c8f0",
   "metadata": {
    "ExecuteTime": {
     "end_time": "2024-04-10T16:18:23.968761Z",
     "start_time": "2024-04-10T16:18:23.962222Z"
    }
   },
   "outputs": [],
   "source": [
    "x = []\n",
    "xstar=[]\n",
    "x.append(np.array(x_start))\n",
    "delta = 0.001\n",
    "i = 0\n",
    "max_iter = 10\n",
    "a=0\n",
    "k_max=100"
   ]
  },
  {
   "cell_type": "code",
   "execution_count": 61,
   "id": "1df40a30",
   "metadata": {
    "ExecuteTime": {
     "end_time": "2024-04-10T16:22:38.768354Z",
     "start_time": "2024-04-10T16:22:38.752726Z"
    }
   },
   "outputs": [],
   "source": [
    "def Pf(x, param):\n",
    "    a = param[0]\n",
    "    xi = param[1]\n",
    "    return f(xi) + (numerical_gradient(f, x).T) @ (x - xi) + 0.5 * (\n",
    "        (x - xi).T * a) @ (x - xi)\n",
    "\n",
    "\n",
    "def LFOPC(x0, a, delta,k_max):\n",
    "    Pfparam = [a, x0]\n",
    "    x = []\n",
    "    a=[]\n",
    "    v=[]\n",
    "    x.append(np.array(x0))\n",
    "    i_x=0\n",
    "    i_xm = 2\n",
    "    i_s = 0\n",
    "    i_sm = 3\n",
    "    i_d=0\n",
    "    i_dm=5\n",
    "    p=1\n",
    "    k=-1\n",
    "    sigma_t=0.001\n",
    "    epsilon_g=0.00001\n",
    "    epsilon_x=0.0001\n",
    "    print(x0)\n",
    "    a.append(-numerical_gradient_param(Pf,x[0],Pfparam))\n",
    "    delta_t=np.sqrt(delta/(5*np.linalg.norm(x[0])))\n",
    "    v.append(a[0]*delta_t)\n",
    "    while k<100:\n",
    "        k=k+1\n",
    "        delta_x_norm=np.linalg.norm(v[k])*delta_t\n",
    "        if delta_x_norm>=delta:\n",
    "            i_d=0\n",
    "            p=p+sigma_t\n",
    "            delta_t=p*delta_t\n",
    "        else:\n",
    "            i_d+=1\n",
    "            v[k]=delta*v[k]/(delta_t*np.linalg.norm(v[k]))\n",
    "        if i_s>=i_sm:\n",
    "            r=1-80*epsilon_x/delta\n",
    "            v[k]=(v[k]+r*v[k])/4\n",
    "            x[k]=(x[k]+x[k-1])/2\n",
    "            i_s=0\n",
    "        x.append(x[k]+v[k]*delta_t)\n",
    "        while True:\n",
    "            a.append(-numerical_gradient_param(Pf,x[0],Pfparam))\n",
    "            v.append(v[k]+a[k+1]*delta_t)\n",
    "            if(a[k+1].T@a[k]>0):\n",
    "                i_s=0\n",
    "            else:\n",
    "                if i_d>i_dm:\n",
    "                    delta_t=delta_t/2\n",
    "                    i_d=0\n",
    "                i_s=i_s+1\n",
    "                p=1\n",
    "            if np.linalg.norm(a[k+1]<=epsilon_g):\n",
    "                return x[k+1]\n",
    "            if np.linalg.norm(x[k+1]-x[k])<epsilon_x:\n",
    "                return x[k+1]\n",
    "            if k>k_max:\n",
    "                return x[k+1]\n",
    "            if np.linalg.norm(v[k+1])>np.linalg.norm(v[k]):\n",
    "                i_x=0\n",
    "                break\n",
    "            x.append((x[k+1]+x[k])/2)\n",
    "            i_x=i_x+1\n",
    "            if i_x<=i_xm:\n",
    "                v.append((v[k+1]+v[k])/4)\n",
    "                k=k+1\n",
    "            else:\n",
    "                v.append(np.array(0))\n",
    "                k=k+1\n",
    "                i_xm=1"
   ]
  },
  {
   "cell_type": "code",
   "execution_count": 62,
   "id": "f2a0a475",
   "metadata": {
    "ExecuteTime": {
     "end_time": "2024-04-10T16:22:39.374160Z",
     "start_time": "2024-04-10T16:22:39.347803Z"
    }
   },
   "outputs": [
    {
     "name": "stdout",
     "output_type": "stream",
     "text": [
      "[ 0.20139418 -0.05093922 -0.03590974]\n",
      "[ 0.20139409 -0.05122369 -0.04017219]\n",
      "[ 0.201394   -0.0514422  -0.04450493]\n",
      "[ 0.20139388 -0.05158499 -0.04890969]\n",
      "[ 0.20139376 -0.05164213 -0.05338761]\n",
      "[ 0.20139362 -0.05160323 -0.05793962]\n",
      "[ 0.20139346 -0.0514571  -0.06256669]\n",
      "[ 0.2013933  -0.05119137 -0.06727011]\n"
     ]
    }
   ],
   "source": [
    "while i < max_iter:\n",
    "    xi=x[i]\n",
    "    xi_=x[i-1]\n",
    "    fxi=f(x[i])\n",
    "    fxi_=f(x[i-1])\n",
    "    dfxi=numerical_gradient(f,np.array(x[i]))\n",
    "    if i!=0:\n",
    "        a=(2*(fxi_-fxi-(dfxi.T@(xi_-xi))))/(np.linalg.norm(xi_-xi))**2\n",
    "    xstar.append(LFOPC(xi,a,delta,k_max))\n",
    "    i+=1\n",
    "    x.append(xstar[i-1])\n",
    "print(x[i])"
   ]
  },
  {
   "cell_type": "code",
   "execution_count": null,
   "id": "ed2e3130",
   "metadata": {
    "ExecuteTime": {
     "end_time": "2024-04-10T15:31:34.956084Z",
     "start_time": "2024-04-10T15:31:34.956084Z"
    },
    "scrolled": true
   },
   "outputs": [],
   "source": [
    "#a = np.array([0.11,0.1,0.1])\n",
    "\n",
    "#autograd\n",
    "#grad_f = grad(f)\n",
    "#grad_f(a).tolist()\n",
    "#numpy.sqrt, numpy.tanh for autograd\n",
    "\n",
    "\n",
    "#diy function\n",
    "#print(f(a))\n",
    "#print(numerical_gradient(f,a))"
   ]
  },
  {
   "cell_type": "code",
   "execution_count": null,
   "id": "85c7f9a6",
   "metadata": {
    "ExecuteTime": {
     "end_time": "2024-04-10T15:31:34.956084Z",
     "start_time": "2024-04-10T15:31:34.956084Z"
    }
   },
   "outputs": [],
   "source": [
    "help(np.T)"
   ]
  },
  {
   "cell_type": "code",
   "execution_count": null,
   "id": "4c5568ac",
   "metadata": {},
   "outputs": [],
   "source": []
  }
 ],
 "metadata": {
  "kernelspec": {
   "display_name": "Python 3 (ipykernel)",
   "language": "python",
   "name": "python3"
  },
  "language_info": {
   "codemirror_mode": {
    "name": "ipython",
    "version": 3
   },
   "file_extension": ".py",
   "mimetype": "text/x-python",
   "name": "python",
   "nbconvert_exporter": "python",
   "pygments_lexer": "ipython3",
   "version": "3.11.4"
  },
  "toc": {
   "base_numbering": 1,
   "nav_menu": {},
   "number_sections": true,
   "sideBar": true,
   "skip_h1_title": false,
   "title_cell": "Table of Contents",
   "title_sidebar": "Contents",
   "toc_cell": false,
   "toc_position": {},
   "toc_section_display": true,
   "toc_window_display": false
  },
  "varInspector": {
   "cols": {
    "lenName": 16,
    "lenType": 16,
    "lenVar": 40
   },
   "kernels_config": {
    "python": {
     "delete_cmd_postfix": "",
     "delete_cmd_prefix": "del ",
     "library": "var_list.py",
     "varRefreshCmd": "print(var_dic_list())"
    },
    "r": {
     "delete_cmd_postfix": ") ",
     "delete_cmd_prefix": "rm(",
     "library": "var_list.r",
     "varRefreshCmd": "cat(var_dic_list()) "
    }
   },
   "types_to_exclude": [
    "module",
    "function",
    "builtin_function_or_method",
    "instance",
    "_Feature"
   ],
   "window_display": false
  }
 },
 "nbformat": 4,
 "nbformat_minor": 5
}
